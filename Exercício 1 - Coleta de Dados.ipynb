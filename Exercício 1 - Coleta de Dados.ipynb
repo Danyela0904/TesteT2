{
 "cells": [
  {
   "cell_type": "markdown",
   "id": "8936a03f",
   "metadata": {},
   "source": [
    "## Exercício 1 - Coleta de Dados\n",
    "\n",
    "O exercício consiste em automatizar a extração dos arquivos disponibilizados no portal de dados abertos da Anvisa. Para isso, siga os seguintes passos:\n",
    "\n",
    "1. Definir a estrutura dos links \n",
    "2. Criar uma função para baixar automaticamente os dados do primeiro trimestre de 2020 e 2021 \n",
    "3. Armazenar os arquivos em csv\n",
    "\n",
    "Dica: Para facilitar a construção do seu código, crie uma lista com todos os links de download já estruturados, em seguida, construa um segunda estrutura de repetição para baixar esses dados. "
   ]
  }
 ],
 "metadata": {
  "kernelspec": {
   "display_name": "Python 3 (ipykernel)",
   "language": "python",
   "name": "python3"
  },
  "language_info": {
   "codemirror_mode": {
    "name": "ipython",
    "version": 3
   },
   "file_extension": ".py",
   "mimetype": "text/x-python",
   "name": "python",
   "nbconvert_exporter": "python",
   "pygments_lexer": "ipython3",
   "version": "3.9.13"
  }
 },
 "nbformat": 4,
 "nbformat_minor": 5
}
