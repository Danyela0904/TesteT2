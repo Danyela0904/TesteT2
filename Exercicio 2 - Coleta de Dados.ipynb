{
 "cells": [
  {
   "cell_type": "markdown",
   "id": "a6918643",
   "metadata": {},
   "source": [
    "## Exercício 2 - Listas de Preços de medicamentos\n",
    "\n",
    "As farmácias e drogarias, assim como laboratórios, distribuidores e importadores, não podem cobrar pelos medicamentos preço acima do permitido pela CMED. A lista de preços máximos permitidos para a venda de medicamentos é disponibilizada para consulta dos consumidores e é atualizada mensalmente.\n",
    "\n",
    "Para o exercício 2, vamos extrair o arquivo Preço Máximo - xls, disponível em: https://www.gov.br/anvisa/pt-br/assuntos/medicamentos/cmed/precos. Essa é uma extração direta.\n",
    "\n",
    "1. Extrair arquivo em excel\n",
    "2. Tratar o arquivo e carregar somente a tabela no python\n",
    "\n",
    "\n",
    "Obs. Esta lista apresenta os preços dos medicamentos REGULADOS, nos termos da Resolução CMED nº 02, de 05 de março de 2004, e os preços dos medicamentos LIBERADOS, nos termos da Resolução CMED nº 02, de 20 de março de 2019.\n",
    "\n",
    "Esta Lista apresenta, ainda, o Preço Máximo ao Consumidor (PMC), que é o preço a ser praticado pelo comércio varejista de medicamentos, ou seja, farmácias e drogarias, tendo em vista que este contempla tanto a margem de lucro como os impostos inerentes a esses tipos de comércio.\n",
    "\n",
    "\n"
   ]
  }
 ],
 "metadata": {
  "kernelspec": {
   "display_name": "Python 3 (ipykernel)",
   "language": "python",
   "name": "python3"
  },
  "language_info": {
   "codemirror_mode": {
    "name": "ipython",
    "version": 3
   },
   "file_extension": ".py",
   "mimetype": "text/x-python",
   "name": "python",
   "nbconvert_exporter": "python",
   "pygments_lexer": "ipython3",
   "version": "3.9.13"
  }
 },
 "nbformat": 4,
 "nbformat_minor": 5
}
