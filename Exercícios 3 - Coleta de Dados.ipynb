{
 "cells": [
  {
   "cell_type": "markdown",
   "id": "b1b5b758",
   "metadata": {},
   "source": [
    "### Exercício 3\n",
    "\n",
    "O Banco de Preços em Saúde - BPS é um sistema desenvolvido pelo Ministério da Saúde - MS e se destina ao registro e à consulta de informações de compras de medicamentos e produtos para a saúde realizadas por instituições públicas e privadas. Criado em 1998, atualmente é gerenciado pela Coordenação Geral de Economia da Saúde - CGES, do Departamento da Economia da Saúde, Investimentos e Desenvolvimento - DESID, da Secretaria Executiva - SE, do Ministério da Saúde. \n",
    "\n",
    "O objetivo é criar um scraping para baixar as bases anuais compiladas em formato tabela para que seja possível realizar análises. \n",
    "\n",
    "Link: https://www.gov.br/saude/pt-br/acesso-a-informacao/banco-de-precos"
   ]
  }
 ],
 "metadata": {
  "kernelspec": {
   "display_name": "Python 3 (ipykernel)",
   "language": "python",
   "name": "python3"
  },
  "language_info": {
   "codemirror_mode": {
    "name": "ipython",
    "version": 3
   },
   "file_extension": ".py",
   "mimetype": "text/x-python",
   "name": "python",
   "nbconvert_exporter": "python",
   "pygments_lexer": "ipython3",
   "version": "3.9.13"
  }
 },
 "nbformat": 4,
 "nbformat_minor": 5
}
